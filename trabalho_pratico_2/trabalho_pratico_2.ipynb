{
  "nbformat": 4,
  "nbformat_minor": 0,
  "metadata": {
    "colab": {
      "provenance": [],
      "authorship_tag": "ABX9TyNAT//PzhmZF8sad1BxXO0W",
      "include_colab_link": true
    },
    "kernelspec": {
      "name": "python3",
      "display_name": "Python 3"
    },
    "language_info": {
      "name": "python"
    }
  },
  "cells": [
    {
      "cell_type": "markdown",
      "metadata": {
        "id": "view-in-github",
        "colab_type": "text"
      },
      "source": [
        "<a href=\"https://colab.research.google.com/github/macintoxic/.Touch/blob/master/trabalho_pratico_2/trabalho_pratico_2.ipynb\" target=\"_parent\"><img src=\"https://colab.research.google.com/assets/colab-badge.svg\" alt=\"Open In Colab\"/></a>"
      ]
    },
    {
      "cell_type": "markdown",
      "source": [
        "## Instala as dependencias"
      ],
      "metadata": {
        "id": "6OPVaFllXx3K"
      }
    },
    {
      "cell_type": "code",
      "source": [
        "!pip install apache-airflow\n",
        "!pip install pandas_datareader --upgrade\n",
        "!pip install sidrapy"
      ],
      "metadata": {
        "id": "H9O3pQmKPd9C"
      },
      "execution_count": null,
      "outputs": []
    },
    {
      "cell_type": "markdown",
      "source": [
        "## Imports"
      ],
      "metadata": {
        "id": "J7N2xyMLJ4hS"
      }
    },
    {
      "cell_type": "code",
      "execution_count": 35,
      "metadata": {
        "id": "-aG_7d0iI8oL"
      },
      "outputs": [],
      "source": [
        "\n",
        "import yfinance as yf\n",
        "import requests\n",
        "import pandas as pd\n",
        "import sidrapy as sidra\n",
        "import sqlite3\n",
        "from pandas_datareader import data\n",
        "from sqlalchemy import create_engine \n",
        "\n"
      ]
    },
    {
      "cell_type": "markdown",
      "source": [
        "## Colete a série histórica dos dados de inflação de bebidas do IBGE usando a API sidra"
      ],
      "metadata": {
        "id": "f4roziYWK2RB"
      }
    },
    {
      "cell_type": "code",
      "source": [
        "def get_ipca():\n",
        "    url_ipca = 'https://apisidra.ibge.gov.br/values/t/1705/n1/all/v/355/p/all/c315/7169,7170,7389,7396,7397,7440,7443,12394/d/v355%202'\n",
        "\n",
        "    ipca_raw = sidra.get_table(table_code=1705,\n",
        "                            territorial_level = \"1\",\n",
        "                            ibge_territorial_code = \"all\",\n",
        "                            period = \"all\",\n",
        "                            categories=[7169,7170,7389,7396,7397,7440,7443,12394]                           \n",
        "                            )\n",
        "\n",
        "\n",
        "    return ipca_raw\n",
        "\n",
        "\n",
        "get_ipca().head()"
      ],
      "metadata": {
        "colab": {
          "base_uri": "https://localhost:8080/",
          "height": 337
        },
        "id": "q9Ud-CXQK7wp",
        "outputId": "27836427-5234-46ca-9f15-43e38ece1c72"
      },
      "execution_count": 36,
      "outputs": [
        {
          "output_type": "execute_result",
          "data": {
            "text/plain": [
              "                           NC                 NN                          MC  \\\n",
              "0  Nível Territorial (Código)  Nível Territorial  Unidade de Medida (Código)   \n",
              "1                           1             Brasil                           2   \n",
              "2                           1             Brasil                           2   \n",
              "3                           1             Brasil                               \n",
              "4                           1             Brasil                           2   \n",
              "\n",
              "                  MN         V              D1C     D1N           D2C  \\\n",
              "0  Unidade de Medida     Valor  Brasil (Código)  Brasil  Mês (Código)   \n",
              "1                  %      0.53                1  Brasil        201202   \n",
              "2                  %      1.18                1  Brasil        201202   \n",
              "3                          ...                1  Brasil        201202   \n",
              "4                  %  100.0000                1  Brasil        201202   \n",
              "\n",
              "              D2N                D3C                                      D3N  \\\n",
              "0             Mês  Variável (Código)                                 Variável   \n",
              "1  fevereiro 2012                355                 IPCA15 - Variação mensal   \n",
              "2  fevereiro 2012                356       IPCA15 - Variação acumulada no ano   \n",
              "3  fevereiro 2012               1120  IPCA15 - Variação acumulada em 12 meses   \n",
              "4  fevereiro 2012                357                     IPCA15 - Peso mensal   \n",
              "\n",
              "                                               D4C  \\\n",
              "0  Geral, grupo, subgrupo, item e subitem (Código)   \n",
              "1                                             7169   \n",
              "2                                             7169   \n",
              "3                                             7169   \n",
              "4                                             7169   \n",
              "\n",
              "                                      D4N  \n",
              "0  Geral, grupo, subgrupo, item e subitem  \n",
              "1                            Índice geral  \n",
              "2                            Índice geral  \n",
              "3                            Índice geral  \n",
              "4                            Índice geral  "
            ],
            "text/html": [
              "\n",
              "  <div id=\"df-9a0daf8f-a8d8-4282-ac48-22da3c89520d\">\n",
              "    <div class=\"colab-df-container\">\n",
              "      <div>\n",
              "<style scoped>\n",
              "    .dataframe tbody tr th:only-of-type {\n",
              "        vertical-align: middle;\n",
              "    }\n",
              "\n",
              "    .dataframe tbody tr th {\n",
              "        vertical-align: top;\n",
              "    }\n",
              "\n",
              "    .dataframe thead th {\n",
              "        text-align: right;\n",
              "    }\n",
              "</style>\n",
              "<table border=\"1\" class=\"dataframe\">\n",
              "  <thead>\n",
              "    <tr style=\"text-align: right;\">\n",
              "      <th></th>\n",
              "      <th>NC</th>\n",
              "      <th>NN</th>\n",
              "      <th>MC</th>\n",
              "      <th>MN</th>\n",
              "      <th>V</th>\n",
              "      <th>D1C</th>\n",
              "      <th>D1N</th>\n",
              "      <th>D2C</th>\n",
              "      <th>D2N</th>\n",
              "      <th>D3C</th>\n",
              "      <th>D3N</th>\n",
              "      <th>D4C</th>\n",
              "      <th>D4N</th>\n",
              "    </tr>\n",
              "  </thead>\n",
              "  <tbody>\n",
              "    <tr>\n",
              "      <th>0</th>\n",
              "      <td>Nível Territorial (Código)</td>\n",
              "      <td>Nível Territorial</td>\n",
              "      <td>Unidade de Medida (Código)</td>\n",
              "      <td>Unidade de Medida</td>\n",
              "      <td>Valor</td>\n",
              "      <td>Brasil (Código)</td>\n",
              "      <td>Brasil</td>\n",
              "      <td>Mês (Código)</td>\n",
              "      <td>Mês</td>\n",
              "      <td>Variável (Código)</td>\n",
              "      <td>Variável</td>\n",
              "      <td>Geral, grupo, subgrupo, item e subitem (Código)</td>\n",
              "      <td>Geral, grupo, subgrupo, item e subitem</td>\n",
              "    </tr>\n",
              "    <tr>\n",
              "      <th>1</th>\n",
              "      <td>1</td>\n",
              "      <td>Brasil</td>\n",
              "      <td>2</td>\n",
              "      <td>%</td>\n",
              "      <td>0.53</td>\n",
              "      <td>1</td>\n",
              "      <td>Brasil</td>\n",
              "      <td>201202</td>\n",
              "      <td>fevereiro 2012</td>\n",
              "      <td>355</td>\n",
              "      <td>IPCA15 - Variação mensal</td>\n",
              "      <td>7169</td>\n",
              "      <td>Índice geral</td>\n",
              "    </tr>\n",
              "    <tr>\n",
              "      <th>2</th>\n",
              "      <td>1</td>\n",
              "      <td>Brasil</td>\n",
              "      <td>2</td>\n",
              "      <td>%</td>\n",
              "      <td>1.18</td>\n",
              "      <td>1</td>\n",
              "      <td>Brasil</td>\n",
              "      <td>201202</td>\n",
              "      <td>fevereiro 2012</td>\n",
              "      <td>356</td>\n",
              "      <td>IPCA15 - Variação acumulada no ano</td>\n",
              "      <td>7169</td>\n",
              "      <td>Índice geral</td>\n",
              "    </tr>\n",
              "    <tr>\n",
              "      <th>3</th>\n",
              "      <td>1</td>\n",
              "      <td>Brasil</td>\n",
              "      <td></td>\n",
              "      <td></td>\n",
              "      <td>...</td>\n",
              "      <td>1</td>\n",
              "      <td>Brasil</td>\n",
              "      <td>201202</td>\n",
              "      <td>fevereiro 2012</td>\n",
              "      <td>1120</td>\n",
              "      <td>IPCA15 - Variação acumulada em 12 meses</td>\n",
              "      <td>7169</td>\n",
              "      <td>Índice geral</td>\n",
              "    </tr>\n",
              "    <tr>\n",
              "      <th>4</th>\n",
              "      <td>1</td>\n",
              "      <td>Brasil</td>\n",
              "      <td>2</td>\n",
              "      <td>%</td>\n",
              "      <td>100.0000</td>\n",
              "      <td>1</td>\n",
              "      <td>Brasil</td>\n",
              "      <td>201202</td>\n",
              "      <td>fevereiro 2012</td>\n",
              "      <td>357</td>\n",
              "      <td>IPCA15 - Peso mensal</td>\n",
              "      <td>7169</td>\n",
              "      <td>Índice geral</td>\n",
              "    </tr>\n",
              "  </tbody>\n",
              "</table>\n",
              "</div>\n",
              "      <button class=\"colab-df-convert\" onclick=\"convertToInteractive('df-9a0daf8f-a8d8-4282-ac48-22da3c89520d')\"\n",
              "              title=\"Convert this dataframe to an interactive table.\"\n",
              "              style=\"display:none;\">\n",
              "        \n",
              "  <svg xmlns=\"http://www.w3.org/2000/svg\" height=\"24px\"viewBox=\"0 0 24 24\"\n",
              "       width=\"24px\">\n",
              "    <path d=\"M0 0h24v24H0V0z\" fill=\"none\"/>\n",
              "    <path d=\"M18.56 5.44l.94 2.06.94-2.06 2.06-.94-2.06-.94-.94-2.06-.94 2.06-2.06.94zm-11 1L8.5 8.5l.94-2.06 2.06-.94-2.06-.94L8.5 2.5l-.94 2.06-2.06.94zm10 10l.94 2.06.94-2.06 2.06-.94-2.06-.94-.94-2.06-.94 2.06-2.06.94z\"/><path d=\"M17.41 7.96l-1.37-1.37c-.4-.4-.92-.59-1.43-.59-.52 0-1.04.2-1.43.59L10.3 9.45l-7.72 7.72c-.78.78-.78 2.05 0 2.83L4 21.41c.39.39.9.59 1.41.59.51 0 1.02-.2 1.41-.59l7.78-7.78 2.81-2.81c.8-.78.8-2.07 0-2.86zM5.41 20L4 18.59l7.72-7.72 1.47 1.35L5.41 20z\"/>\n",
              "  </svg>\n",
              "      </button>\n",
              "      \n",
              "  <style>\n",
              "    .colab-df-container {\n",
              "      display:flex;\n",
              "      flex-wrap:wrap;\n",
              "      gap: 12px;\n",
              "    }\n",
              "\n",
              "    .colab-df-convert {\n",
              "      background-color: #E8F0FE;\n",
              "      border: none;\n",
              "      border-radius: 50%;\n",
              "      cursor: pointer;\n",
              "      display: none;\n",
              "      fill: #1967D2;\n",
              "      height: 32px;\n",
              "      padding: 0 0 0 0;\n",
              "      width: 32px;\n",
              "    }\n",
              "\n",
              "    .colab-df-convert:hover {\n",
              "      background-color: #E2EBFA;\n",
              "      box-shadow: 0px 1px 2px rgba(60, 64, 67, 0.3), 0px 1px 3px 1px rgba(60, 64, 67, 0.15);\n",
              "      fill: #174EA6;\n",
              "    }\n",
              "\n",
              "    [theme=dark] .colab-df-convert {\n",
              "      background-color: #3B4455;\n",
              "      fill: #D2E3FC;\n",
              "    }\n",
              "\n",
              "    [theme=dark] .colab-df-convert:hover {\n",
              "      background-color: #434B5C;\n",
              "      box-shadow: 0px 1px 3px 1px rgba(0, 0, 0, 0.15);\n",
              "      filter: drop-shadow(0px 1px 2px rgba(0, 0, 0, 0.3));\n",
              "      fill: #FFFFFF;\n",
              "    }\n",
              "  </style>\n",
              "\n",
              "      <script>\n",
              "        const buttonEl =\n",
              "          document.querySelector('#df-9a0daf8f-a8d8-4282-ac48-22da3c89520d button.colab-df-convert');\n",
              "        buttonEl.style.display =\n",
              "          google.colab.kernel.accessAllowed ? 'block' : 'none';\n",
              "\n",
              "        async function convertToInteractive(key) {\n",
              "          const element = document.querySelector('#df-9a0daf8f-a8d8-4282-ac48-22da3c89520d');\n",
              "          const dataTable =\n",
              "            await google.colab.kernel.invokeFunction('convertToInteractive',\n",
              "                                                     [key], {});\n",
              "          if (!dataTable) return;\n",
              "\n",
              "          const docLinkHtml = 'Like what you see? Visit the ' +\n",
              "            '<a target=\"_blank\" href=https://colab.research.google.com/notebooks/data_table.ipynb>data table notebook</a>'\n",
              "            + ' to learn more about interactive tables.';\n",
              "          element.innerHTML = '';\n",
              "          dataTable['output_type'] = 'display_data';\n",
              "          await google.colab.output.renderOutput(dataTable, element);\n",
              "          const docLink = document.createElement('div');\n",
              "          docLink.innerHTML = docLinkHtml;\n",
              "          element.appendChild(docLink);\n",
              "        }\n",
              "      </script>\n",
              "    </div>\n",
              "  </div>\n",
              "  "
            ]
          },
          "metadata": {},
          "execution_count": 36
        }
      ]
    },
    {
      "cell_type": "markdown",
      "source": [
        "## Colete a série histórica dos dados diários de preços e volume\n",
        "(OHLCV) para a ação ABEV3 do provedor de sua preferência (yahoo\n",
        "finance, marketstack, eodhistoricaldata, finnhub, alphavantage\n",
        "etc.);\n"
      ],
      "metadata": {
        "id": "jNPFrRaZReae"
      }
    },
    {
      "cell_type": "code",
      "source": [
        "def get_abev3():\n",
        "    yf.pdr_override()\n",
        "    x  = data.get_data_yahoo(\"ABEV3.SA\") \n",
        "    x['ticker'] = 'ABEV3.SA'\n",
        "\n",
        "    return x"
      ],
      "metadata": {
        "id": "HboirG2DRN1F"
      },
      "execution_count": 37,
      "outputs": []
    },
    {
      "cell_type": "markdown",
      "source": [
        "## Crie e armazene esses dados em um banco de dados SQL local ou em nuvem"
      ],
      "metadata": {
        "id": "6GAoyhdwYC3C"
      }
    },
    {
      "cell_type": "code",
      "source": [
        "def save_to_sqlite():\n",
        "    engine = create_engine('sqlite:////content/market_data.db', echo=False)\n",
        "    get_abev3().to_sql('data', con=engine)\n"
      ],
      "metadata": {
        "id": "fOw1JeACVT9-"
      },
      "execution_count": 46,
      "outputs": []
    },
    {
      "cell_type": "markdown",
      "source": [
        "## Esboce como seria a implementação em Python de uma DAG Airflow, que  executaria as coletas implementadas anteriormente. O código não precisa rodar com sucesso, é apenas um esboço."
      ],
      "metadata": {
        "id": "_8pmiIloYc0O"
      }
    },
    {
      "cell_type": "markdown",
      "source": [
        "### Inicializa o airflow"
      ],
      "metadata": {
        "id": "sHTnYQ6vbdjB"
      }
    },
    {
      "cell_type": "code",
      "source": [
        "!airflow db init"
      ],
      "metadata": {
        "colab": {
          "base_uri": "https://localhost:8080/"
        },
        "id": "0O8_sL_nYhtQ",
        "outputId": "dfcbe102-7010-4ba6-d161-8d18125929ec"
      },
      "execution_count": 42,
      "outputs": [
        {
          "output_type": "stream",
          "name": "stdout",
          "text": [
            "DB: sqlite:////root/airflow/airflow.db\n",
            "[\u001b[34m2023-04-06 01:45:40,966\u001b[0m] {\u001b[34mmigration.py:\u001b[0m207} INFO\u001b[0m - Context impl \u001b[01mSQLiteImpl\u001b[22m.\u001b[0m\n",
            "[\u001b[34m2023-04-06 01:45:40,966\u001b[0m] {\u001b[34mmigration.py:\u001b[0m210} INFO\u001b[0m - Will assume \u001b[01mnon-transactional\u001b[22m DDL.\u001b[0m\n",
            "INFO  [alembic.runtime.migration] Context impl SQLiteImpl.\n",
            "INFO  [alembic.runtime.migration] Will assume non-transactional DDL.\n",
            "INFO  [alembic.runtime.migration] Running stamp_revision  -> 290244fb8b83\n",
            "WARNI [airflow.models.crypto] empty cryptography key - values will not be stored encrypted.\n",
            "Initialization done\n"
          ]
        }
      ]
    },
    {
      "cell_type": "markdown",
      "source": [
        "### Imports do airflow"
      ],
      "metadata": {
        "id": "q2u9TpkmbhZx"
      }
    },
    {
      "cell_type": "code",
      "source": [
        "from airflow import DAG\n",
        "from datetime import datetime, timedelta\n",
        "from airflow.operators.python import PythonOperator"
      ],
      "metadata": {
        "id": "iPOuhCdUbX7u"
      },
      "execution_count": 43,
      "outputs": []
    },
    {
      "cell_type": "code",
      "source": [
        "def get_ipca():\n",
        "    url_ipca = 'https://apisidra.ibge.gov.br/values/t/1705/n1/all/v/355/p/all/c315/7169,7170,7389,7396,7397,7440,7443,12394/d/v355%202'\n",
        "\n",
        "    ipca_raw = sidra.get_table(table_code=1705,\n",
        "                            territorial_level = \"1\",\n",
        "                            ibge_territorial_code = \"all\",\n",
        "                            period = \"all\",\n",
        "                            categories=[7169,7170,7389,7396,7397,7440,7443,12394]                           \n",
        "                            )\n",
        "\n",
        "\n",
        "    #ipca_raw.head()\n",
        "    return ipca_raw\n",
        "\n"
      ],
      "metadata": {
        "id": "iHBKtvqqKBRm"
      },
      "execution_count": 44,
      "outputs": []
    },
    {
      "cell_type": "markdown",
      "source": [
        "## Parâmetros default do DAG"
      ],
      "metadata": {
        "id": "tZH1YCTfLCYk"
      }
    },
    {
      "cell_type": "code",
      "source": [
        "args = {\n",
        "            'owner': 'airflow',    \n",
        "            #'start_date': airflow.utils.dates.days_ago(2),\n",
        "            # 'end_date': datetime(),\n",
        "            # 'depends_on_past': False,\n",
        "            #'email': ['airflow@example.com'],\n",
        "            #'email_on_failure': False,\n",
        "            #'email_on_retry': False,\n",
        "            # If a task fails, retry it once after waiting\n",
        "            # at least 5 minutes\n",
        "            #'retries': 1,\n",
        "            'retry_delay': timedelta(minutes=5),\n",
        "        }"
      ],
      "metadata": {
        "id": "xdKHoGqFKuFt"
      },
      "execution_count": 45,
      "outputs": []
    },
    {
      "cell_type": "markdown",
      "source": [
        "## Instanciar o DAG"
      ],
      "metadata": {
        "id": "c4-fnTqtK-Ws"
      }
    },
    {
      "cell_type": "code",
      "source": [
        "dag_python = DAG(\n",
        "\tdag_id = \"pythonoperator_demo\",\n",
        "\tdefault_args=args,\n",
        "\t# schedule_interval='0 0 * * *',\n",
        "\tschedule_interval='@once',\t\n",
        "\tdagrun_timeout=timedelta(seconds=1),\n",
        "\tdescription='use case of python operator in airflow',\n",
        "\tstart_date = airflow.utils.dates.days_ago(1))"
      ],
      "metadata": {
        "colab": {
          "base_uri": "https://localhost:8080/",
          "height": 66
        },
        "id": "DNRYC5K4KzUO",
        "outputId": "b0bb5d54-6e07-45c8-b268-5f35cf30866f"
      },
      "execution_count": 48,
      "outputs": [
        {
          "output_type": "display_data",
          "data": {
            "text/plain": [
              "\u001b[1;33m<\u001b[0m\u001b[1;33mipython-input-\u001b[0m\u001b[1;33m48\u001b[0m\u001b[1;33m-8ed45ba0abdd\u001b[0m\u001b[1;33m>\u001b[0m\u001b[1;33m:\u001b[0m\u001b[1;33m8\u001b[0m\u001b[1;33m RemovedInAirflow3Warning\u001b[0m\u001b[33m: Function `days_ago` is deprecated and will be removed in Airflow \u001b[0m\u001b[1;33m3.0\u001b[0m\u001b[33m. You can achieve equivalent behavior with `\u001b[0m\u001b[1;33mpendulum.today\u001b[0m\u001b[1;33m(\u001b[0m\u001b[33m'UTC'\u001b[0m\u001b[1;33m)\u001b[0m\u001b[1;33m.add\u001b[0m\u001b[1;33m(\u001b[0m\u001b[33mdays\u001b[0m\u001b[33m=-N, \u001b[0m\u001b[33m...\u001b[0m\u001b[1;33m)\u001b[0m\u001b[33m`\u001b[0m\n"
            ],
            "text/html": [
              "<pre style=\"white-space:pre;overflow-x:auto;line-height:normal;font-family:Menlo,'DejaVu Sans Mono',consolas,'Courier New',monospace\"><span style=\"color: #808000; text-decoration-color: #808000; font-weight: bold\">&lt;ipython-input-</span><span style=\"color: #808000; text-decoration-color: #808000; font-weight: bold\">48</span><span style=\"color: #808000; text-decoration-color: #808000; font-weight: bold\">-8ed45ba0abdd&gt;:</span><span style=\"color: #808000; text-decoration-color: #808000; font-weight: bold\">8</span><span style=\"color: #808000; text-decoration-color: #808000; font-weight: bold\"> RemovedInAirflow3Warning</span><span style=\"color: #808000; text-decoration-color: #808000\">: Function `days_ago` is deprecated and will be removed in Airflow </span><span style=\"color: #808000; text-decoration-color: #808000; font-weight: bold\">3.0</span><span style=\"color: #808000; text-decoration-color: #808000\">. You can achieve equivalent behavior with `</span><span style=\"color: #808000; text-decoration-color: #808000; font-weight: bold\">pendulum.today(</span><span style=\"color: #808000; text-decoration-color: #808000\">'UTC'</span><span style=\"color: #808000; text-decoration-color: #808000; font-weight: bold\">).add(</span><span style=\"color: #808000; text-decoration-color: #808000\">days</span><span style=\"color: #808000; text-decoration-color: #808000\">=-N, ...</span><span style=\"color: #808000; text-decoration-color: #808000; font-weight: bold\">)</span><span style=\"color: #808000; text-decoration-color: #808000\">`</span>\n",
              "</pre>\n"
            ]
          },
          "metadata": {}
        },
        {
          "output_type": "display_data",
          "data": {
            "text/plain": [
              "\u001b[1;33m<\u001b[0m\u001b[1;33mipython-input-\u001b[0m\u001b[1;33m48\u001b[0m\u001b[1;33m-8ed45ba0abdd\u001b[0m\u001b[1;33m>\u001b[0m\u001b[1;33m:\u001b[0m\u001b[1;33m1\u001b[0m\u001b[1;33m RemovedInAirflow3Warning\u001b[0m\u001b[33m: Param `schedule_interval` is deprecated and will be removed in a future release. Please use `schedule` instead.\u001b[0m\n"
            ],
            "text/html": [
              "<pre style=\"white-space:pre;overflow-x:auto;line-height:normal;font-family:Menlo,'DejaVu Sans Mono',consolas,'Courier New',monospace\"><span style=\"color: #808000; text-decoration-color: #808000; font-weight: bold\">&lt;ipython-input-</span><span style=\"color: #808000; text-decoration-color: #808000; font-weight: bold\">48</span><span style=\"color: #808000; text-decoration-color: #808000; font-weight: bold\">-8ed45ba0abdd&gt;:</span><span style=\"color: #808000; text-decoration-color: #808000; font-weight: bold\">1</span><span style=\"color: #808000; text-decoration-color: #808000; font-weight: bold\"> RemovedInAirflow3Warning</span><span style=\"color: #808000; text-decoration-color: #808000\">: Param `schedule_interval` is deprecated and will be removed in a future release. Please use `schedule` instead.</span>\n",
              "</pre>\n"
            ]
          },
          "metadata": {}
        }
      ]
    },
    {
      "cell_type": "markdown",
      "source": [],
      "metadata": {
        "id": "juiiLpduLSU0"
      }
    },
    {
      "cell_type": "code",
      "source": [
        "python_task_ipca = PythonOperator(task_id='get_ipca', python_callable=get_ipca, dag=dag_python)\n",
        "python_task_get_abev3 = PythonOperator(task_id='get_abev3', python_callable=get_abev3, dag=dag_python)\n",
        "python_task_save_to_sqlite = PythonOperator(task_id='save_to_sqlite', python_callable=save_to_sqlite, dag=dag_python)\n"
      ],
      "metadata": {
        "id": "1juv3XPZLSwa"
      },
      "execution_count": 49,
      "outputs": []
    }
  ]
}